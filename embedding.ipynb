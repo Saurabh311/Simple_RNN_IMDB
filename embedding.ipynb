{
 "cells": [
  {
   "cell_type": "code",
   "execution_count": 123,
   "metadata": {},
   "outputs": [],
   "source": [
    "from tensorflow.keras.preprocessing.text import one_hot"
   ]
  },
  {
   "cell_type": "code",
   "execution_count": 124,
   "metadata": {},
   "outputs": [
    {
     "data": {
      "text/plain": [
       "['the glass of milk',\n",
       " 'the glass of juice',\n",
       " 'the cup of tea',\n",
       " 'I am a good boy',\n",
       " 'I am a good developer',\n",
       " 'understand the meaning of words',\n",
       " 'your videos are good']"
      ]
     },
     "execution_count": 124,
     "metadata": {},
     "output_type": "execute_result"
    }
   ],
   "source": [
    "### sentences\n",
    "sent=[  'the glass of milk',\n",
    "     'the glass of juice',\n",
    "     'the cup of tea',\n",
    "    'I am a good boy',\n",
    "     'I am a good developer',\n",
    "     'understand the meaning of words',\n",
    "     'your videos are good',]\n",
    "\n",
    "sent"
   ]
  },
  {
   "cell_type": "code",
   "execution_count": 125,
   "metadata": {},
   "outputs": [],
   "source": [
    "## Define the vocabulary size\n",
    "voc_size=10000"
   ]
  },
  {
   "cell_type": "code",
   "execution_count": 126,
   "metadata": {},
   "outputs": [
    {
     "data": {
      "text/plain": [
       "[[6984, 2628, 7764, 9156],\n",
       " [6984, 2628, 7764, 5216],\n",
       " [6984, 5751, 7764, 1925],\n",
       " [9306, 4139, 1336, 7968, 7506],\n",
       " [9306, 4139, 1336, 7968, 352],\n",
       " [4851, 6984, 6281, 7764, 6153],\n",
       " [2883, 9663, 366, 7968]]"
      ]
     },
     "execution_count": 126,
     "metadata": {},
     "output_type": "execute_result"
    }
   ],
   "source": [
    "## one Hot represntation\n",
    "one_hot_repr = [one_hot(words, voc_size) for words in sent]\n",
    "one_hot_repr"
   ]
  },
  {
   "cell_type": "code",
   "execution_count": 127,
   "metadata": {},
   "outputs": [],
   "source": [
    "## word Embedding Representation\n",
    "\n",
    "from tensorflow.keras.layers import Embedding\n",
    "#from tensorflow.keras.processing.sequence import pad_sequences\n",
    "from tensorflow.keras.utils import pad_sequences\n",
    "from tensorflow.keras.models import Sequential"
   ]
  },
  {
   "cell_type": "code",
   "execution_count": 128,
   "metadata": {},
   "outputs": [],
   "source": [
    "import numpy as np\n",
    "embedded_docs = np.array(embedded_docs)  # Ensure shape = (n_samples, sent_length)"
   ]
  },
  {
   "cell_type": "code",
   "execution_count": 129,
   "metadata": {},
   "outputs": [
    {
     "name": "stdout",
     "output_type": "stream",
     "text": [
      "[[   0    0    0    0 6984 2628 7764 9156]\n",
      " [   0    0    0    0 6984 2628 7764 5216]\n",
      " [   0    0    0    0 6984 5751 7764 1925]\n",
      " [   0    0    0 9306 4139 1336 7968 7506]\n",
      " [   0    0    0 9306 4139 1336 7968  352]\n",
      " [   0    0    0 4851 6984 6281 7764 6153]\n",
      " [   0    0    0    0 2883 9663  366 7968]]\n"
     ]
    }
   ],
   "source": [
    "sent_length = 8\n",
    "embedded_docs = pad_sequences(one_hot_repr, padding='pre', maxlen=sent_length)\n",
    "print(embedded_docs)"
   ]
  },
  {
   "cell_type": "code",
   "execution_count": 130,
   "metadata": {},
   "outputs": [],
   "source": [
    "## feature representation\n",
    "dim=10"
   ]
  },
  {
   "cell_type": "code",
   "execution_count": 131,
   "metadata": {},
   "outputs": [],
   "source": [
    "model=Sequential()\n",
    "model.add(Embedding(voc_size, dim, input_shape=(sent_length,)))\n",
    "model.compile('adam','mse')\n",
    "model.build(input_shape=(None, sent_length))"
   ]
  },
  {
   "cell_type": "code",
   "execution_count": 132,
   "metadata": {},
   "outputs": [
    {
     "data": {
      "text/html": [
       "<pre style=\"white-space:pre;overflow-x:auto;line-height:normal;font-family:Menlo,'DejaVu Sans Mono',consolas,'Courier New',monospace\"><span style=\"font-weight: bold\">Model: \"sequential_14\"</span>\n",
       "</pre>\n"
      ],
      "text/plain": [
       "\u001b[1mModel: \"sequential_14\"\u001b[0m\n"
      ]
     },
     "metadata": {},
     "output_type": "display_data"
    },
    {
     "data": {
      "text/html": [
       "<pre style=\"white-space:pre;overflow-x:auto;line-height:normal;font-family:Menlo,'DejaVu Sans Mono',consolas,'Courier New',monospace\">┏━━━━━━━━━━━━━━━━━━━━━━━━━━━━━━━━━┳━━━━━━━━━━━━━━━━━━━━━━━━┳━━━━━━━━━━━━━━━┓\n",
       "┃<span style=\"font-weight: bold\"> Layer (type)                    </span>┃<span style=\"font-weight: bold\"> Output Shape           </span>┃<span style=\"font-weight: bold\">       Param # </span>┃\n",
       "┡━━━━━━━━━━━━━━━━━━━━━━━━━━━━━━━━━╇━━━━━━━━━━━━━━━━━━━━━━━━╇━━━━━━━━━━━━━━━┩\n",
       "│ embedding_14 (<span style=\"color: #0087ff; text-decoration-color: #0087ff\">Embedding</span>)        │ (<span style=\"color: #00d7ff; text-decoration-color: #00d7ff\">None</span>, <span style=\"color: #00af00; text-decoration-color: #00af00\">8</span>, <span style=\"color: #00af00; text-decoration-color: #00af00\">10</span>)          │       <span style=\"color: #00af00; text-decoration-color: #00af00\">100,000</span> │\n",
       "└─────────────────────────────────┴────────────────────────┴───────────────┘\n",
       "</pre>\n"
      ],
      "text/plain": [
       "┏━━━━━━━━━━━━━━━━━━━━━━━━━━━━━━━━━┳━━━━━━━━━━━━━━━━━━━━━━━━┳━━━━━━━━━━━━━━━┓\n",
       "┃\u001b[1m \u001b[0m\u001b[1mLayer (type)                   \u001b[0m\u001b[1m \u001b[0m┃\u001b[1m \u001b[0m\u001b[1mOutput Shape          \u001b[0m\u001b[1m \u001b[0m┃\u001b[1m \u001b[0m\u001b[1m      Param #\u001b[0m\u001b[1m \u001b[0m┃\n",
       "┡━━━━━━━━━━━━━━━━━━━━━━━━━━━━━━━━━╇━━━━━━━━━━━━━━━━━━━━━━━━╇━━━━━━━━━━━━━━━┩\n",
       "│ embedding_14 (\u001b[38;5;33mEmbedding\u001b[0m)        │ (\u001b[38;5;45mNone\u001b[0m, \u001b[38;5;34m8\u001b[0m, \u001b[38;5;34m10\u001b[0m)          │       \u001b[38;5;34m100,000\u001b[0m │\n",
       "└─────────────────────────────────┴────────────────────────┴───────────────┘\n"
      ]
     },
     "metadata": {},
     "output_type": "display_data"
    },
    {
     "data": {
      "text/html": [
       "<pre style=\"white-space:pre;overflow-x:auto;line-height:normal;font-family:Menlo,'DejaVu Sans Mono',consolas,'Courier New',monospace\"><span style=\"font-weight: bold\"> Total params: </span><span style=\"color: #00af00; text-decoration-color: #00af00\">100,000</span> (390.62 KB)\n",
       "</pre>\n"
      ],
      "text/plain": [
       "\u001b[1m Total params: \u001b[0m\u001b[38;5;34m100,000\u001b[0m (390.62 KB)\n"
      ]
     },
     "metadata": {},
     "output_type": "display_data"
    },
    {
     "data": {
      "text/html": [
       "<pre style=\"white-space:pre;overflow-x:auto;line-height:normal;font-family:Menlo,'DejaVu Sans Mono',consolas,'Courier New',monospace\"><span style=\"font-weight: bold\"> Trainable params: </span><span style=\"color: #00af00; text-decoration-color: #00af00\">100,000</span> (390.62 KB)\n",
       "</pre>\n"
      ],
      "text/plain": [
       "\u001b[1m Trainable params: \u001b[0m\u001b[38;5;34m100,000\u001b[0m (390.62 KB)\n"
      ]
     },
     "metadata": {},
     "output_type": "display_data"
    },
    {
     "data": {
      "text/html": [
       "<pre style=\"white-space:pre;overflow-x:auto;line-height:normal;font-family:Menlo,'DejaVu Sans Mono',consolas,'Courier New',monospace\"><span style=\"font-weight: bold\"> Non-trainable params: </span><span style=\"color: #00af00; text-decoration-color: #00af00\">0</span> (0.00 B)\n",
       "</pre>\n"
      ],
      "text/plain": [
       "\u001b[1m Non-trainable params: \u001b[0m\u001b[38;5;34m0\u001b[0m (0.00 B)\n"
      ]
     },
     "metadata": {},
     "output_type": "display_data"
    }
   ],
   "source": [
    "model.summary()"
   ]
  },
  {
   "cell_type": "code",
   "execution_count": 133,
   "metadata": {},
   "outputs": [
    {
     "name": "stdout",
     "output_type": "stream",
     "text": [
      "\u001b[1m1/1\u001b[0m \u001b[32m━━━━━━━━━━━━━━━━━━━━\u001b[0m\u001b[37m\u001b[0m \u001b[1m0s\u001b[0m 260ms/step\n"
     ]
    },
    {
     "data": {
      "text/plain": [
       "array([[[ 0.03811521, -0.02413552, -0.04535296,  0.01541999,\n",
       "         -0.04338134, -0.00174761,  0.04935363, -0.04678794,\n",
       "          0.0370522 , -0.00381992],\n",
       "        [ 0.03811521, -0.02413552, -0.04535296,  0.01541999,\n",
       "         -0.04338134, -0.00174761,  0.04935363, -0.04678794,\n",
       "          0.0370522 , -0.00381992],\n",
       "        [ 0.03811521, -0.02413552, -0.04535296,  0.01541999,\n",
       "         -0.04338134, -0.00174761,  0.04935363, -0.04678794,\n",
       "          0.0370522 , -0.00381992],\n",
       "        [ 0.03811521, -0.02413552, -0.04535296,  0.01541999,\n",
       "         -0.04338134, -0.00174761,  0.04935363, -0.04678794,\n",
       "          0.0370522 , -0.00381992],\n",
       "        [-0.01866259, -0.03196175, -0.03434245, -0.00323693,\n",
       "         -0.04687105, -0.01525497,  0.04653193,  0.00820097,\n",
       "         -0.00269007,  0.04763177],\n",
       "        [-0.03006891, -0.01920972,  0.04740466,  0.02778408,\n",
       "          0.02830415, -0.00727595, -0.04115163,  0.04308167,\n",
       "          0.04842355, -0.04334983],\n",
       "        [ 0.03254938, -0.01731664, -0.02658359, -0.00784105,\n",
       "          0.02812276,  0.04388968, -0.02391455, -0.03785596,\n",
       "          0.02137417,  0.02203402],\n",
       "        [-0.02277835, -0.03807481, -0.03589275, -0.01943528,\n",
       "         -0.01127781, -0.02804649,  0.01353616,  0.03581752,\n",
       "         -0.04205302, -0.03738021]],\n",
       "\n",
       "       [[ 0.03811521, -0.02413552, -0.04535296,  0.01541999,\n",
       "         -0.04338134, -0.00174761,  0.04935363, -0.04678794,\n",
       "          0.0370522 , -0.00381992],\n",
       "        [ 0.03811521, -0.02413552, -0.04535296,  0.01541999,\n",
       "         -0.04338134, -0.00174761,  0.04935363, -0.04678794,\n",
       "          0.0370522 , -0.00381992],\n",
       "        [ 0.03811521, -0.02413552, -0.04535296,  0.01541999,\n",
       "         -0.04338134, -0.00174761,  0.04935363, -0.04678794,\n",
       "          0.0370522 , -0.00381992],\n",
       "        [ 0.03811521, -0.02413552, -0.04535296,  0.01541999,\n",
       "         -0.04338134, -0.00174761,  0.04935363, -0.04678794,\n",
       "          0.0370522 , -0.00381992],\n",
       "        [-0.01866259, -0.03196175, -0.03434245, -0.00323693,\n",
       "         -0.04687105, -0.01525497,  0.04653193,  0.00820097,\n",
       "         -0.00269007,  0.04763177],\n",
       "        [-0.03006891, -0.01920972,  0.04740466,  0.02778408,\n",
       "          0.02830415, -0.00727595, -0.04115163,  0.04308167,\n",
       "          0.04842355, -0.04334983],\n",
       "        [ 0.03254938, -0.01731664, -0.02658359, -0.00784105,\n",
       "          0.02812276,  0.04388968, -0.02391455, -0.03785596,\n",
       "          0.02137417,  0.02203402],\n",
       "        [-0.04250441,  0.04103488,  0.03879699, -0.03071476,\n",
       "         -0.00846314,  0.01358126, -0.0174804 ,  0.00978696,\n",
       "          0.02364239,  0.04669878]],\n",
       "\n",
       "       [[ 0.03811521, -0.02413552, -0.04535296,  0.01541999,\n",
       "         -0.04338134, -0.00174761,  0.04935363, -0.04678794,\n",
       "          0.0370522 , -0.00381992],\n",
       "        [ 0.03811521, -0.02413552, -0.04535296,  0.01541999,\n",
       "         -0.04338134, -0.00174761,  0.04935363, -0.04678794,\n",
       "          0.0370522 , -0.00381992],\n",
       "        [ 0.03811521, -0.02413552, -0.04535296,  0.01541999,\n",
       "         -0.04338134, -0.00174761,  0.04935363, -0.04678794,\n",
       "          0.0370522 , -0.00381992],\n",
       "        [ 0.03811521, -0.02413552, -0.04535296,  0.01541999,\n",
       "         -0.04338134, -0.00174761,  0.04935363, -0.04678794,\n",
       "          0.0370522 , -0.00381992],\n",
       "        [-0.01866259, -0.03196175, -0.03434245, -0.00323693,\n",
       "         -0.04687105, -0.01525497,  0.04653193,  0.00820097,\n",
       "         -0.00269007,  0.04763177],\n",
       "        [ 0.00710496, -0.0061632 , -0.04332417,  0.01392689,\n",
       "         -0.0224399 , -0.04280517,  0.02001194, -0.03446603,\n",
       "          0.0495716 ,  0.03978732],\n",
       "        [ 0.03254938, -0.01731664, -0.02658359, -0.00784105,\n",
       "          0.02812276,  0.04388968, -0.02391455, -0.03785596,\n",
       "          0.02137417,  0.02203402],\n",
       "        [ 0.03241364,  0.03167914,  0.04360687,  0.02324841,\n",
       "          0.01855027,  0.00357317, -0.02941045, -0.01070569,\n",
       "          0.01677206,  0.0142541 ]],\n",
       "\n",
       "       [[ 0.03811521, -0.02413552, -0.04535296,  0.01541999,\n",
       "         -0.04338134, -0.00174761,  0.04935363, -0.04678794,\n",
       "          0.0370522 , -0.00381992],\n",
       "        [ 0.03811521, -0.02413552, -0.04535296,  0.01541999,\n",
       "         -0.04338134, -0.00174761,  0.04935363, -0.04678794,\n",
       "          0.0370522 , -0.00381992],\n",
       "        [ 0.03811521, -0.02413552, -0.04535296,  0.01541999,\n",
       "         -0.04338134, -0.00174761,  0.04935363, -0.04678794,\n",
       "          0.0370522 , -0.00381992],\n",
       "        [ 0.04807997, -0.04501282, -0.01306343, -0.00258499,\n",
       "         -0.03407747,  0.0023606 , -0.02052195, -0.00275468,\n",
       "          0.00234073, -0.00543068],\n",
       "        [ 0.0289211 , -0.03507631,  0.03936904, -0.0026893 ,\n",
       "         -0.04539926, -0.03036929,  0.04587797,  0.04135512,\n",
       "         -0.03962675, -0.01148853],\n",
       "        [ 0.01361681,  0.03477773,  0.0241495 ,  0.02881495,\n",
       "         -0.04580697, -0.00140884, -0.03506274, -0.04474233,\n",
       "         -0.00105859, -0.00588787],\n",
       "        [ 0.02804575, -0.01521099,  0.04746217, -0.04924419,\n",
       "          0.00341376,  0.01912462,  0.02506998,  0.04480134,\n",
       "         -0.02758538, -0.02814632],\n",
       "        [ 0.0130177 , -0.02817724,  0.0050496 ,  0.02936322,\n",
       "         -0.00024657,  0.0321779 , -0.01707636,  0.00402554,\n",
       "         -0.04892985, -0.00947239]],\n",
       "\n",
       "       [[ 0.03811521, -0.02413552, -0.04535296,  0.01541999,\n",
       "         -0.04338134, -0.00174761,  0.04935363, -0.04678794,\n",
       "          0.0370522 , -0.00381992],\n",
       "        [ 0.03811521, -0.02413552, -0.04535296,  0.01541999,\n",
       "         -0.04338134, -0.00174761,  0.04935363, -0.04678794,\n",
       "          0.0370522 , -0.00381992],\n",
       "        [ 0.03811521, -0.02413552, -0.04535296,  0.01541999,\n",
       "         -0.04338134, -0.00174761,  0.04935363, -0.04678794,\n",
       "          0.0370522 , -0.00381992],\n",
       "        [ 0.04807997, -0.04501282, -0.01306343, -0.00258499,\n",
       "         -0.03407747,  0.0023606 , -0.02052195, -0.00275468,\n",
       "          0.00234073, -0.00543068],\n",
       "        [ 0.0289211 , -0.03507631,  0.03936904, -0.0026893 ,\n",
       "         -0.04539926, -0.03036929,  0.04587797,  0.04135512,\n",
       "         -0.03962675, -0.01148853],\n",
       "        [ 0.01361681,  0.03477773,  0.0241495 ,  0.02881495,\n",
       "         -0.04580697, -0.00140884, -0.03506274, -0.04474233,\n",
       "         -0.00105859, -0.00588787],\n",
       "        [ 0.02804575, -0.01521099,  0.04746217, -0.04924419,\n",
       "          0.00341376,  0.01912462,  0.02506998,  0.04480134,\n",
       "         -0.02758538, -0.02814632],\n",
       "        [ 0.01619839, -0.02882929,  0.0045866 ,  0.03146031,\n",
       "          0.00448284, -0.04960852, -0.01666294,  0.0395247 ,\n",
       "          0.04855187, -0.01606124]],\n",
       "\n",
       "       [[ 0.03811521, -0.02413552, -0.04535296,  0.01541999,\n",
       "         -0.04338134, -0.00174761,  0.04935363, -0.04678794,\n",
       "          0.0370522 , -0.00381992],\n",
       "        [ 0.03811521, -0.02413552, -0.04535296,  0.01541999,\n",
       "         -0.04338134, -0.00174761,  0.04935363, -0.04678794,\n",
       "          0.0370522 , -0.00381992],\n",
       "        [ 0.03811521, -0.02413552, -0.04535296,  0.01541999,\n",
       "         -0.04338134, -0.00174761,  0.04935363, -0.04678794,\n",
       "          0.0370522 , -0.00381992],\n",
       "        [-0.04931039,  0.03895166,  0.02724189,  0.04957454,\n",
       "          0.02646831,  0.03595651,  0.00948912, -0.00207909,\n",
       "         -0.03108388, -0.04611217],\n",
       "        [-0.01866259, -0.03196175, -0.03434245, -0.00323693,\n",
       "         -0.04687105, -0.01525497,  0.04653193,  0.00820097,\n",
       "         -0.00269007,  0.04763177],\n",
       "        [ 0.03376975, -0.02278901, -0.00176353, -0.0050356 ,\n",
       "         -0.01778696, -0.01113696,  0.01426604,  0.00022279,\n",
       "          0.04571439,  0.04299711],\n",
       "        [ 0.03254938, -0.01731664, -0.02658359, -0.00784105,\n",
       "          0.02812276,  0.04388968, -0.02391455, -0.03785596,\n",
       "          0.02137417,  0.02203402],\n",
       "        [-0.03714856,  0.04125369, -0.04172748,  0.01596613,\n",
       "          0.03717393, -0.01584194, -0.01113602,  0.04123319,\n",
       "         -0.01905683, -0.03076884]],\n",
       "\n",
       "       [[ 0.03811521, -0.02413552, -0.04535296,  0.01541999,\n",
       "         -0.04338134, -0.00174761,  0.04935363, -0.04678794,\n",
       "          0.0370522 , -0.00381992],\n",
       "        [ 0.03811521, -0.02413552, -0.04535296,  0.01541999,\n",
       "         -0.04338134, -0.00174761,  0.04935363, -0.04678794,\n",
       "          0.0370522 , -0.00381992],\n",
       "        [ 0.03811521, -0.02413552, -0.04535296,  0.01541999,\n",
       "         -0.04338134, -0.00174761,  0.04935363, -0.04678794,\n",
       "          0.0370522 , -0.00381992],\n",
       "        [ 0.03811521, -0.02413552, -0.04535296,  0.01541999,\n",
       "         -0.04338134, -0.00174761,  0.04935363, -0.04678794,\n",
       "          0.0370522 , -0.00381992],\n",
       "        [ 0.03539382, -0.01303755,  0.03462792,  0.03683339,\n",
       "         -0.01880453,  0.03536627,  0.03834758, -0.00422831,\n",
       "         -0.04181771, -0.04248924],\n",
       "        [ 0.03416128, -0.03705565, -0.02754098,  0.01398832,\n",
       "         -0.03962686, -0.00332787, -0.0115862 ,  0.03146436,\n",
       "         -0.04807832, -0.00197278],\n",
       "        [-0.02373097, -0.02683077, -0.04989989,  0.01718699,\n",
       "          0.0283409 , -0.02166886, -0.00825617, -0.02385619,\n",
       "          0.00082006,  0.00642423],\n",
       "        [ 0.02804575, -0.01521099,  0.04746217, -0.04924419,\n",
       "          0.00341376,  0.01912462,  0.02506998,  0.04480134,\n",
       "         -0.02758538, -0.02814632]]], dtype=float32)"
      ]
     },
     "execution_count": 133,
     "metadata": {},
     "output_type": "execute_result"
    }
   ],
   "source": [
    "model.predict(embedded_docs)"
   ]
  },
  {
   "cell_type": "code",
   "execution_count": 134,
   "metadata": {},
   "outputs": [
    {
     "data": {
      "text/plain": [
       "array([   0,    0,    0, 4851, 6984, 6281, 7764, 6153])"
      ]
     },
     "execution_count": 134,
     "metadata": {},
     "output_type": "execute_result"
    }
   ],
   "source": [
    "embedded_docs[5]"
   ]
  },
  {
   "cell_type": "code",
   "execution_count": 136,
   "metadata": {},
   "outputs": [
    {
     "ename": "ValueError",
     "evalue": "Exception encountered when calling Sequential.call().\n\n\u001b[1mCannot take the length of shape with unknown rank.\u001b[0m\n\nArguments received by Sequential.call():\n  • inputs=tf.Tensor(shape=<unknown>, dtype=int32)\n  • training=False\n  • mask=None",
     "output_type": "error",
     "traceback": [
      "\u001b[1;31m---------------------------------------------------------------------------\u001b[0m",
      "\u001b[1;31mValueError\u001b[0m                                Traceback (most recent call last)",
      "Cell \u001b[1;32mIn[136], line 1\u001b[0m\n\u001b[1;32m----> 1\u001b[0m model\u001b[38;5;241m.\u001b[39mpredict(embedded_docs[\u001b[38;5;241m5\u001b[39m])\n",
      "File \u001b[1;32mc:\\Users\\Saura\\Anaconda3\\Lib\\site-packages\\keras\\src\\utils\\traceback_utils.py:122\u001b[0m, in \u001b[0;36mfilter_traceback.<locals>.error_handler\u001b[1;34m(*args, **kwargs)\u001b[0m\n\u001b[0;32m    119\u001b[0m     filtered_tb \u001b[38;5;241m=\u001b[39m _process_traceback_frames(e\u001b[38;5;241m.\u001b[39m__traceback__)\n\u001b[0;32m    120\u001b[0m     \u001b[38;5;66;03m# To get the full stack trace, call:\u001b[39;00m\n\u001b[0;32m    121\u001b[0m     \u001b[38;5;66;03m# `keras.config.disable_traceback_filtering()`\u001b[39;00m\n\u001b[1;32m--> 122\u001b[0m     \u001b[38;5;28;01mraise\u001b[39;00m e\u001b[38;5;241m.\u001b[39mwith_traceback(filtered_tb) \u001b[38;5;28;01mfrom\u001b[39;00m \u001b[38;5;28;01mNone\u001b[39;00m\n\u001b[0;32m    123\u001b[0m \u001b[38;5;28;01mfinally\u001b[39;00m:\n\u001b[0;32m    124\u001b[0m     \u001b[38;5;28;01mdel\u001b[39;00m filtered_tb\n",
      "File \u001b[1;32mc:\\Users\\Saura\\Anaconda3\\Lib\\site-packages\\keras\\src\\utils\\traceback_utils.py:122\u001b[0m, in \u001b[0;36mfilter_traceback.<locals>.error_handler\u001b[1;34m(*args, **kwargs)\u001b[0m\n\u001b[0;32m    119\u001b[0m     filtered_tb \u001b[38;5;241m=\u001b[39m _process_traceback_frames(e\u001b[38;5;241m.\u001b[39m__traceback__)\n\u001b[0;32m    120\u001b[0m     \u001b[38;5;66;03m# To get the full stack trace, call:\u001b[39;00m\n\u001b[0;32m    121\u001b[0m     \u001b[38;5;66;03m# `keras.config.disable_traceback_filtering()`\u001b[39;00m\n\u001b[1;32m--> 122\u001b[0m     \u001b[38;5;28;01mraise\u001b[39;00m e\u001b[38;5;241m.\u001b[39mwith_traceback(filtered_tb) \u001b[38;5;28;01mfrom\u001b[39;00m \u001b[38;5;28;01mNone\u001b[39;00m\n\u001b[0;32m    123\u001b[0m \u001b[38;5;28;01mfinally\u001b[39;00m:\n\u001b[0;32m    124\u001b[0m     \u001b[38;5;28;01mdel\u001b[39;00m filtered_tb\n",
      "\u001b[1;31mValueError\u001b[0m: Exception encountered when calling Sequential.call().\n\n\u001b[1mCannot take the length of shape with unknown rank.\u001b[0m\n\nArguments received by Sequential.call():\n  • inputs=tf.Tensor(shape=<unknown>, dtype=int32)\n  • training=False\n  • mask=None"
     ]
    }
   ],
   "source": [
    "model.predict(embedded_docs[5])"
   ]
  },
  {
   "cell_type": "code",
   "execution_count": null,
   "metadata": {},
   "outputs": [],
   "source": []
  },
  {
   "cell_type": "code",
   "execution_count": null,
   "metadata": {},
   "outputs": [],
   "source": []
  },
  {
   "cell_type": "code",
   "execution_count": null,
   "metadata": {},
   "outputs": [],
   "source": []
  }
 ],
 "metadata": {
  "kernelspec": {
   "display_name": "base",
   "language": "python",
   "name": "python3"
  },
  "language_info": {
   "codemirror_mode": {
    "name": "ipython",
    "version": 3
   },
   "file_extension": ".py",
   "mimetype": "text/x-python",
   "name": "python",
   "nbconvert_exporter": "python",
   "pygments_lexer": "ipython3",
   "version": "3.12.7"
  }
 },
 "nbformat": 4,
 "nbformat_minor": 2
}
