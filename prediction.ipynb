{
 "cells": [
  {
   "cell_type": "code",
   "execution_count": 83,
   "metadata": {},
   "outputs": [],
   "source": [
    "# Step 1: Import Libraries and Load the Model\n",
    "import numpy as np\n",
    "import tensorflow as tf\n",
    "from tensorflow.keras.datasets import imdb\n",
    "from tensorflow.keras.preprocessing import sequence\n",
    "from tensorflow.keras.models import load_model"
   ]
  },
  {
   "cell_type": "code",
   "execution_count": 84,
   "metadata": {},
   "outputs": [],
   "source": [
    "# Load the IMDB dataset word index\n",
    "word_index = imdb.get_word_index()\n",
    "reverse_word_index = {value: key for key, value in word_index.items()}"
   ]
  },
  {
   "cell_type": "code",
   "execution_count": 85,
   "metadata": {},
   "outputs": [
    {
     "name": "stderr",
     "output_type": "stream",
     "text": [
      "WARNING:absl:Compiled the loaded model, but the compiled metrics have yet to be built. `model.compile_metrics` will be empty until you train or evaluate the model.\n"
     ]
    },
    {
     "data": {
      "text/html": [
       "<pre style=\"white-space:pre;overflow-x:auto;line-height:normal;font-family:Menlo,'DejaVu Sans Mono',consolas,'Courier New',monospace\"><span style=\"font-weight: bold\">Model: \"sequential_7\"</span>\n",
       "</pre>\n"
      ],
      "text/plain": [
       "\u001b[1mModel: \"sequential_7\"\u001b[0m\n"
      ]
     },
     "metadata": {},
     "output_type": "display_data"
    },
    {
     "data": {
      "text/html": [
       "<pre style=\"white-space:pre;overflow-x:auto;line-height:normal;font-family:Menlo,'DejaVu Sans Mono',consolas,'Courier New',monospace\">┏━━━━━━━━━━━━━━━━━━━━━━━━━━━━━━━━━┳━━━━━━━━━━━━━━━━━━━━━━━━┳━━━━━━━━━━━━━━━┓\n",
       "┃<span style=\"font-weight: bold\"> Layer (type)                    </span>┃<span style=\"font-weight: bold\"> Output Shape           </span>┃<span style=\"font-weight: bold\">       Param # </span>┃\n",
       "┡━━━━━━━━━━━━━━━━━━━━━━━━━━━━━━━━━╇━━━━━━━━━━━━━━━━━━━━━━━━╇━━━━━━━━━━━━━━━┩\n",
       "│ embedding_7 (<span style=\"color: #0087ff; text-decoration-color: #0087ff\">Embedding</span>)         │ (<span style=\"color: #00d7ff; text-decoration-color: #00d7ff\">None</span>, <span style=\"color: #00af00; text-decoration-color: #00af00\">500</span>, <span style=\"color: #00af00; text-decoration-color: #00af00\">128</span>)       │     <span style=\"color: #00af00; text-decoration-color: #00af00\">1,280,000</span> │\n",
       "├─────────────────────────────────┼────────────────────────┼───────────────┤\n",
       "│ simple_rnn_7 (<span style=\"color: #0087ff; text-decoration-color: #0087ff\">SimpleRNN</span>)        │ (<span style=\"color: #00d7ff; text-decoration-color: #00d7ff\">None</span>, <span style=\"color: #00af00; text-decoration-color: #00af00\">128</span>)            │        <span style=\"color: #00af00; text-decoration-color: #00af00\">32,896</span> │\n",
       "├─────────────────────────────────┼────────────────────────┼───────────────┤\n",
       "│ dense_7 (<span style=\"color: #0087ff; text-decoration-color: #0087ff\">Dense</span>)                 │ (<span style=\"color: #00d7ff; text-decoration-color: #00d7ff\">None</span>, <span style=\"color: #00af00; text-decoration-color: #00af00\">1</span>)              │           <span style=\"color: #00af00; text-decoration-color: #00af00\">129</span> │\n",
       "└─────────────────────────────────┴────────────────────────┴───────────────┘\n",
       "</pre>\n"
      ],
      "text/plain": [
       "┏━━━━━━━━━━━━━━━━━━━━━━━━━━━━━━━━━┳━━━━━━━━━━━━━━━━━━━━━━━━┳━━━━━━━━━━━━━━━┓\n",
       "┃\u001b[1m \u001b[0m\u001b[1mLayer (type)                   \u001b[0m\u001b[1m \u001b[0m┃\u001b[1m \u001b[0m\u001b[1mOutput Shape          \u001b[0m\u001b[1m \u001b[0m┃\u001b[1m \u001b[0m\u001b[1m      Param #\u001b[0m\u001b[1m \u001b[0m┃\n",
       "┡━━━━━━━━━━━━━━━━━━━━━━━━━━━━━━━━━╇━━━━━━━━━━━━━━━━━━━━━━━━╇━━━━━━━━━━━━━━━┩\n",
       "│ embedding_7 (\u001b[38;5;33mEmbedding\u001b[0m)         │ (\u001b[38;5;45mNone\u001b[0m, \u001b[38;5;34m500\u001b[0m, \u001b[38;5;34m128\u001b[0m)       │     \u001b[38;5;34m1,280,000\u001b[0m │\n",
       "├─────────────────────────────────┼────────────────────────┼───────────────┤\n",
       "│ simple_rnn_7 (\u001b[38;5;33mSimpleRNN\u001b[0m)        │ (\u001b[38;5;45mNone\u001b[0m, \u001b[38;5;34m128\u001b[0m)            │        \u001b[38;5;34m32,896\u001b[0m │\n",
       "├─────────────────────────────────┼────────────────────────┼───────────────┤\n",
       "│ dense_7 (\u001b[38;5;33mDense\u001b[0m)                 │ (\u001b[38;5;45mNone\u001b[0m, \u001b[38;5;34m1\u001b[0m)              │           \u001b[38;5;34m129\u001b[0m │\n",
       "└─────────────────────────────────┴────────────────────────┴───────────────┘\n"
      ]
     },
     "metadata": {},
     "output_type": "display_data"
    },
    {
     "data": {
      "text/html": [
       "<pre style=\"white-space:pre;overflow-x:auto;line-height:normal;font-family:Menlo,'DejaVu Sans Mono',consolas,'Courier New',monospace\"><span style=\"font-weight: bold\"> Total params: </span><span style=\"color: #00af00; text-decoration-color: #00af00\">1,313,027</span> (5.01 MB)\n",
       "</pre>\n"
      ],
      "text/plain": [
       "\u001b[1m Total params: \u001b[0m\u001b[38;5;34m1,313,027\u001b[0m (5.01 MB)\n"
      ]
     },
     "metadata": {},
     "output_type": "display_data"
    },
    {
     "data": {
      "text/html": [
       "<pre style=\"white-space:pre;overflow-x:auto;line-height:normal;font-family:Menlo,'DejaVu Sans Mono',consolas,'Courier New',monospace\"><span style=\"font-weight: bold\"> Trainable params: </span><span style=\"color: #00af00; text-decoration-color: #00af00\">1,313,025</span> (5.01 MB)\n",
       "</pre>\n"
      ],
      "text/plain": [
       "\u001b[1m Trainable params: \u001b[0m\u001b[38;5;34m1,313,025\u001b[0m (5.01 MB)\n"
      ]
     },
     "metadata": {},
     "output_type": "display_data"
    },
    {
     "data": {
      "text/html": [
       "<pre style=\"white-space:pre;overflow-x:auto;line-height:normal;font-family:Menlo,'DejaVu Sans Mono',consolas,'Courier New',monospace\"><span style=\"font-weight: bold\"> Non-trainable params: </span><span style=\"color: #00af00; text-decoration-color: #00af00\">0</span> (0.00 B)\n",
       "</pre>\n"
      ],
      "text/plain": [
       "\u001b[1m Non-trainable params: \u001b[0m\u001b[38;5;34m0\u001b[0m (0.00 B)\n"
      ]
     },
     "metadata": {},
     "output_type": "display_data"
    },
    {
     "data": {
      "text/html": [
       "<pre style=\"white-space:pre;overflow-x:auto;line-height:normal;font-family:Menlo,'DejaVu Sans Mono',consolas,'Courier New',monospace\"><span style=\"font-weight: bold\"> Optimizer params: </span><span style=\"color: #00af00; text-decoration-color: #00af00\">2</span> (12.00 B)\n",
       "</pre>\n"
      ],
      "text/plain": [
       "\u001b[1m Optimizer params: \u001b[0m\u001b[38;5;34m2\u001b[0m (12.00 B)\n"
      ]
     },
     "metadata": {},
     "output_type": "display_data"
    }
   ],
   "source": [
    "# Load the pre-trained model with ReLU activation\n",
    "model = load_model('simple_rnn_imdb.h5')\n",
    "model.summary()"
   ]
  },
  {
   "cell_type": "code",
   "execution_count": 86,
   "metadata": {},
   "outputs": [
    {
     "data": {
      "text/plain": [
       "[array([[ 0.15093641,  0.28979605, -0.26609206, ..., -0.38504472,\n",
       "          0.16670646, -0.3238833 ],\n",
       "        [ 0.00650332,  0.04856075,  0.04616732, ...,  0.07093177,\n",
       "         -0.01874817, -0.02074806],\n",
       "        [-0.15694515,  0.18469033,  0.05317676, ...,  0.12832557,\n",
       "          0.07851461,  0.03946108],\n",
       "        ...,\n",
       "        [ 0.02130045,  0.0764973 ,  0.01540239, ...,  0.03355125,\n",
       "         -0.08337177, -0.02503705],\n",
       "        [ 0.00982076,  0.02667191, -0.02152215, ...,  0.09499393,\n",
       "         -0.10298058, -0.02684061],\n",
       "        [-0.18991627,  0.05278698,  0.1191726 , ...,  0.11695582,\n",
       "         -0.13831602,  0.14636394]], dtype=float32),\n",
       " array([[ 0.10307087, -0.18881537, -0.13683617, ...,  0.01672101,\n",
       "          0.02341862,  0.07061819],\n",
       "        [-0.10826335, -0.08839892, -0.22636446, ...,  0.00809528,\n",
       "          0.00504473, -0.04587604],\n",
       "        [ 0.08640121, -0.03916192, -0.07808784, ..., -0.03145491,\n",
       "          0.03905705, -0.11748008],\n",
       "        ...,\n",
       "        [ 0.12954596,  0.24398418, -0.09684419, ...,  0.07598126,\n",
       "         -0.04170547,  0.19914795],\n",
       "        [-0.08014718,  0.02830111, -0.14445809, ..., -0.15223253,\n",
       "         -0.01171529,  0.15513599],\n",
       "        [-0.10246082,  0.12067812, -0.08567436, ..., -0.11055555,\n",
       "         -0.05673214,  0.12754558]], dtype=float32),\n",
       " array([[-0.08452725,  0.11455359, -0.02964764, ..., -0.07496016,\n",
       "          0.07696116,  0.08298732],\n",
       "        [-0.0076739 , -0.14569792, -0.07410762, ..., -0.07767525,\n",
       "         -0.12104954,  0.0594351 ],\n",
       "        [ 0.13238719,  0.02107192, -0.0344276 , ...,  0.01284727,\n",
       "         -0.13992538, -0.01463103],\n",
       "        ...,\n",
       "        [-0.03765946, -0.167925  , -0.02903966, ...,  0.10197541,\n",
       "         -0.03458865, -0.05657443],\n",
       "        [ 0.00949272,  0.12738238, -0.03003169, ...,  0.13939095,\n",
       "         -0.01252039,  0.02812091],\n",
       "        [ 0.127749  ,  0.05037231, -0.06130463, ...,  0.05967487,\n",
       "          0.07482749, -0.01529772]], dtype=float32),\n",
       " array([-0.04503655,  0.0910505 , -0.06753616,  0.00621019, -0.04130794,\n",
       "         0.0864854 ,  0.02479563, -0.02615937, -0.01566515, -0.0069938 ,\n",
       "        -0.07990029, -0.02750288, -0.02102181, -0.00800418, -0.04807154,\n",
       "         0.06971941,  0.00573843,  0.02749119, -0.02196443, -0.04974852,\n",
       "        -0.03848569, -0.0137534 ,  0.03422895, -0.05663294,  0.03206349,\n",
       "         0.02305899,  0.03343772, -0.05012081,  0.04815161,  0.04605813,\n",
       "        -0.07064584, -0.04286373, -0.0404782 ,  0.00888033, -0.0326701 ,\n",
       "         0.01781425,  0.01802207, -0.07937703,  0.02324354,  0.09468557,\n",
       "        -0.07495526, -0.05118735,  0.05448262, -0.03573111, -0.08488978,\n",
       "        -0.04811956,  0.05704387,  0.03161065, -0.05711005, -0.0176559 ,\n",
       "        -0.0323129 , -0.0016111 , -0.0565799 , -0.00096021, -0.03355159,\n",
       "        -0.06230005,  0.06525176,  0.04974607, -0.04196547, -0.03224551,\n",
       "        -0.0423786 , -0.00030493,  0.02930773, -0.02497497, -0.02893906,\n",
       "        -0.0525986 ,  0.01394338, -0.04507703,  0.1085495 , -0.06380448,\n",
       "        -0.05603632, -0.03742313,  0.05592981, -0.02928959, -0.01021   ,\n",
       "        -0.01034396, -0.02462206, -0.02376261, -0.04021629,  0.01953474,\n",
       "         0.02666985, -0.04266076,  0.03570507, -0.01534742,  0.02417483,\n",
       "        -0.00219018,  0.01016121,  0.04898781,  0.05999008, -0.07885155,\n",
       "        -0.04734131,  0.03120651, -0.06851971,  0.04540931,  0.00116211,\n",
       "        -0.0071077 , -0.06776437,  0.02852371,  0.03539968,  0.00532362,\n",
       "         0.0034641 , -0.05625634,  0.00705016, -0.01751953,  0.03636695,\n",
       "        -0.04934904, -0.04822256,  0.06390265,  0.02772369, -0.04756257,\n",
       "        -0.05918526, -0.0468025 , -0.06364876, -0.02316704,  0.05814095,\n",
       "         0.01428911, -0.00816628, -0.04225668, -0.01065433, -0.0374269 ,\n",
       "        -0.04273554,  0.01228881, -0.04898245,  0.00622539, -0.00425449,\n",
       "        -0.05827547,  0.00654871,  0.02544019], dtype=float32),\n",
       " array([[-1.39569879e-01],\n",
       "        [ 1.01280913e-01],\n",
       "        [-2.24104002e-01],\n",
       "        [-8.38281438e-02],\n",
       "        [ 1.12572615e-03],\n",
       "        [ 2.11929396e-01],\n",
       "        [-9.54416394e-02],\n",
       "        [ 4.84120369e-01],\n",
       "        [ 7.58337975e-02],\n",
       "        [ 6.23610802e-02],\n",
       "        [-8.26306120e-02],\n",
       "        [-1.62737384e-01],\n",
       "        [ 1.63430095e-01],\n",
       "        [ 5.87302186e-02],\n",
       "        [-1.37665316e-01],\n",
       "        [ 2.43033528e-01],\n",
       "        [-1.16336308e-01],\n",
       "        [-2.04089940e-01],\n",
       "        [ 4.80293259e-02],\n",
       "        [-3.81047189e-01],\n",
       "        [-1.29444271e-01],\n",
       "        [-1.19224086e-01],\n",
       "        [ 3.70104052e-02],\n",
       "        [ 4.69131256e-03],\n",
       "        [-4.61833086e-03],\n",
       "        [-1.89578205e-01],\n",
       "        [-1.73059806e-01],\n",
       "        [-1.22594900e-01],\n",
       "        [-1.46494731e-01],\n",
       "        [ 1.74805686e-01],\n",
       "        [-3.12024146e-01],\n",
       "        [-1.76066354e-01],\n",
       "        [-1.75734505e-01],\n",
       "        [-2.52021670e-01],\n",
       "        [ 3.66780572e-02],\n",
       "        [-1.13340519e-01],\n",
       "        [-1.19413435e-01],\n",
       "        [-4.15310115e-01],\n",
       "        [-1.41298503e-01],\n",
       "        [ 1.44481122e-01],\n",
       "        [-2.07668081e-01],\n",
       "        [-1.99309401e-02],\n",
       "        [ 6.20624237e-02],\n",
       "        [-2.89277583e-01],\n",
       "        [-1.86938122e-01],\n",
       "        [ 2.30621576e-01],\n",
       "        [ 5.17138280e-02],\n",
       "        [-2.13357955e-02],\n",
       "        [-1.45319611e-01],\n",
       "        [-1.11535139e-01],\n",
       "        [-2.34273821e-01],\n",
       "        [ 5.36651758e-04],\n",
       "        [-5.53114414e-02],\n",
       "        [-1.14601240e-01],\n",
       "        [ 1.96703658e-01],\n",
       "        [-1.62708778e-02],\n",
       "        [ 1.00682124e-01],\n",
       "        [ 1.56195611e-01],\n",
       "        [-2.31988385e-01],\n",
       "        [-9.15498063e-02],\n",
       "        [-1.17638007e-01],\n",
       "        [ 1.50417062e-02],\n",
       "        [-1.73960283e-01],\n",
       "        [-2.00569704e-01],\n",
       "        [ 6.59773350e-01],\n",
       "        [-3.51093337e-02],\n",
       "        [-2.12164000e-01],\n",
       "        [ 4.10926901e-02],\n",
       "        [-1.90087631e-02],\n",
       "        [-7.93394297e-02],\n",
       "        [-2.12133914e-01],\n",
       "        [-2.18031764e-01],\n",
       "        [-2.17204854e-01],\n",
       "        [-2.41783023e-01],\n",
       "        [ 9.67502967e-02],\n",
       "        [-1.26219198e-01],\n",
       "        [-1.43061176e-01],\n",
       "        [-1.94808304e-01],\n",
       "        [ 1.04104236e-01],\n",
       "        [-1.56631470e-01],\n",
       "        [-3.51540178e-01],\n",
       "        [-3.15617204e-01],\n",
       "        [ 4.28379253e-02],\n",
       "        [-2.47527167e-01],\n",
       "        [-7.32532516e-02],\n",
       "        [ 1.23033412e-01],\n",
       "        [-1.95355132e-01],\n",
       "        [ 1.16284288e-01],\n",
       "        [-7.04340786e-02],\n",
       "        [ 1.54650256e-01],\n",
       "        [-4.23175879e-02],\n",
       "        [-1.21009864e-01],\n",
       "        [-2.39953831e-01],\n",
       "        [ 9.94715095e-02],\n",
       "        [-5.72990835e-01],\n",
       "        [ 1.06664382e-01],\n",
       "        [-1.65417433e-01],\n",
       "        [ 1.50388911e-01],\n",
       "        [-1.70419917e-01],\n",
       "        [ 1.37443459e-02],\n",
       "        [ 4.53916192e-02],\n",
       "        [-1.93651929e-01],\n",
       "        [ 1.17082827e-01],\n",
       "        [ 3.13165896e-02],\n",
       "        [-2.09206656e-01],\n",
       "        [ 2.15472467e-02],\n",
       "        [-1.25592634e-01],\n",
       "        [ 1.39848694e-01],\n",
       "        [-6.06405318e-01],\n",
       "        [-1.16534755e-01],\n",
       "        [-1.94610253e-01],\n",
       "        [ 1.34866640e-01],\n",
       "        [ 6.22473285e-02],\n",
       "        [-1.87296607e-02],\n",
       "        [ 7.84704983e-02],\n",
       "        [ 4.29233834e-02],\n",
       "        [-1.80664033e-01],\n",
       "        [-2.77886242e-01],\n",
       "        [ 1.91027492e-01],\n",
       "        [-1.71488151e-01],\n",
       "        [-1.48979098e-01],\n",
       "        [ 8.16362649e-02],\n",
       "        [-1.93515450e-01],\n",
       "        [ 1.77561551e-01],\n",
       "        [ 1.27100155e-01],\n",
       "        [ 1.23288939e-02],\n",
       "        [ 1.84561074e-01],\n",
       "        [-6.38723373e-01]], dtype=float32),\n",
       " array([-1.0296005], dtype=float32)]"
      ]
     },
     "execution_count": 86,
     "metadata": {},
     "output_type": "execute_result"
    }
   ],
   "source": [
    "model.get_weights()"
   ]
  },
  {
   "cell_type": "code",
   "execution_count": 87,
   "metadata": {},
   "outputs": [],
   "source": [
    "# Step 2: Helper Functions\n",
    "# Function to decode reviews\n",
    "def decode_review(encoded_review):\n",
    "    return ' '.join([reverse_word_index.get(i - 3, '?') for i in encoded_review])\n",
    "\n",
    "# Function to preprocess user input\n",
    "def preprocess_text(text):\n",
    "    words = text.lower().split()\n",
    "    encoded_review = [word_index.get(word, 2) + 3 for word in words]\n",
    "    padded_review = sequence.pad_sequences([encoded_review], maxlen=500)\n",
    "    return padded_review"
   ]
  },
  {
   "cell_type": "code",
   "execution_count": 88,
   "metadata": {},
   "outputs": [],
   "source": [
    "### Prediction  function\n",
    "\n",
    "def predict_sentiment(review):\n",
    "    preprocessed_input=preprocess_text(review)\n",
    "\n",
    "    prediction=model.predict(preprocessed_input)\n",
    "\n",
    "    sentiment = 'Positive' if prediction[0][0] > 0.5 else 'Negative'\n",
    "    \n",
    "    return sentiment, prediction[0][0]"
   ]
  },
  {
   "cell_type": "code",
   "execution_count": 89,
   "metadata": {},
   "outputs": [
    {
     "name": "stdout",
     "output_type": "stream",
     "text": [
      "\u001b[1m1/1\u001b[0m \u001b[32m━━━━━━━━━━━━━━━━━━━━\u001b[0m\u001b[37m\u001b[0m \u001b[1m1s\u001b[0m 524ms/step\n",
      "Review: This movie was fantastic! The acting was great and the plot was thrilling.\n",
      "Sentiment: Positive\n",
      "Prediction Score: 0.7171831130981445\n"
     ]
    }
   ],
   "source": [
    "# Step 4: User Input and Prediction\n",
    "# Example review for prediction\n",
    "example_review = \"This movie was fantastic! The acting was great and the plot was thrilling.\"\n",
    "\n",
    "sentiment,score=predict_sentiment(example_review)\n",
    "\n",
    "print(f'Review: {example_review}')\n",
    "print(f'Sentiment: {sentiment}')\n",
    "print(f'Prediction Score: {score}')"
   ]
  }
 ],
 "metadata": {
  "kernelspec": {
   "display_name": "base",
   "language": "python",
   "name": "python3"
  },
  "language_info": {
   "codemirror_mode": {
    "name": "ipython",
    "version": 3
   },
   "file_extension": ".py",
   "mimetype": "text/x-python",
   "name": "python",
   "nbconvert_exporter": "python",
   "pygments_lexer": "ipython3",
   "version": "3.12.7"
  }
 },
 "nbformat": 4,
 "nbformat_minor": 2
}
